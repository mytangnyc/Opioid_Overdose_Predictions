{
 "cells": [
  {
   "cell_type": "code",
   "execution_count": 1,
   "metadata": {},
   "outputs": [],
   "source": [
    "### MACHINE LEARNING!!!\n",
    "import numpy as np\n",
    "import pandas as pd\n",
    "import time\n",
    "import gc\n",
    "\n",
    "from sklearn.model_selection import cross_val_score, GridSearchCV, cross_validate, train_test_split\n",
    "from sklearn.metrics import accuracy_score, classification_report, r2_score\n",
    "from sklearn.svm import SVC\n",
    "from sklearn.linear_model import LinearRegression\n",
    "from sklearn.neural_network import MLPRegressor\n",
    "from sklearn.ensemble import RandomForestRegressor\n",
    "from sklearn.preprocessing import StandardScaler, normalize\n",
    "from sklearn.decomposition import PCA\n",
    "\n",
    "import matplotlib.pyplot as plt\n",
    "from matplotlib.legend_handler import HandlerLine2D"
   ]
  },
  {
   "cell_type": "code",
   "execution_count": 24,
   "metadata": {},
   "outputs": [],
   "source": [
    "data_raw = pd.read_csv('final_tableau.csv')\n",
    "data = data_raw[~(data_raw.isna().any(axis=1))]"
   ]
  },
  {
   "cell_type": "code",
   "execution_count": 25,
   "metadata": {},
   "outputs": [
    {
     "name": "stderr",
     "output_type": "stream",
     "text": [
      "/Users/bovice18/anaconda3/envs/team99/lib/python3.7/site-packages/pandas/core/frame.py:4117: SettingWithCopyWarning: \n",
      "A value is trying to be set on a copy of a slice from a DataFrame\n",
      "\n",
      "See the caveats in the documentation: http://pandas.pydata.org/pandas-docs/stable/user_guide/indexing.html#returning-a-view-versus-a-copy\n",
      "  errors=errors,\n"
     ]
    }
   ],
   "source": [
    "fips = data.loc[:, \"fips\"]\n",
    "data.drop(['fips', 'sales_per_capita', 'death_count', 'Unnamed: 0'], axis=1, inplace=True)\n",
    "\n",
    "x_data = data.loc[:, data.columns != \"deaths_per_100000\"]\n",
    "y_data = data.loc[:, \"deaths_per_100000\"]"
   ]
  },
  {
   "cell_type": "code",
   "execution_count": 26,
   "metadata": {},
   "outputs": [
    {
     "data": {
      "text/html": [
       "<div>\n",
       "<style scoped>\n",
       "    .dataframe tbody tr th:only-of-type {\n",
       "        vertical-align: middle;\n",
       "    }\n",
       "\n",
       "    .dataframe tbody tr th {\n",
       "        vertical-align: top;\n",
       "    }\n",
       "\n",
       "    .dataframe thead th {\n",
       "        text-align: right;\n",
       "    }\n",
       "</style>\n",
       "<table border=\"1\" class=\"dataframe\">\n",
       "  <thead>\n",
       "    <tr style=\"text-align: right;\">\n",
       "      <th></th>\n",
       "      <th>population</th>\n",
       "      <th>sales</th>\n",
       "      <th>median_income</th>\n",
       "      <th>2013 Rural-urban Continuum Code</th>\n",
       "      <th>2013 Urban Influence Code</th>\n",
       "      <th>Percent of adults with less than a high school diploma, 2013-17</th>\n",
       "      <th>Percent of adults with a high school diploma only, 2013-17</th>\n",
       "      <th>Percent of adults completing some college or associate's degree, 2013-17</th>\n",
       "      <th>Percent of adults with a bachelor's degree or higher, 2013-17</th>\n",
       "      <th>PCTPOVALL_2017</th>\n",
       "    </tr>\n",
       "  </thead>\n",
       "  <tbody>\n",
       "    <tr>\n",
       "      <th>1</th>\n",
       "      <td>52171.428571</td>\n",
       "      <td>3.038353e+06</td>\n",
       "      <td>50703.142857</td>\n",
       "      <td>2.0</td>\n",
       "      <td>2.0</td>\n",
       "      <td>12.3</td>\n",
       "      <td>33.6</td>\n",
       "      <td>29.1</td>\n",
       "      <td>25.0</td>\n",
       "      <td>13.4</td>\n",
       "    </tr>\n",
       "    <tr>\n",
       "      <th>2</th>\n",
       "      <td>179698.857143</td>\n",
       "      <td>9.989512e+06</td>\n",
       "      <td>48839.857143</td>\n",
       "      <td>3.0</td>\n",
       "      <td>2.0</td>\n",
       "      <td>9.8</td>\n",
       "      <td>27.8</td>\n",
       "      <td>31.7</td>\n",
       "      <td>30.7</td>\n",
       "      <td>10.1</td>\n",
       "    </tr>\n",
       "    <tr>\n",
       "      <th>3</th>\n",
       "      <td>28656.428571</td>\n",
       "      <td>1.141520e+06</td>\n",
       "      <td>30319.714286</td>\n",
       "      <td>6.0</td>\n",
       "      <td>6.0</td>\n",
       "      <td>26.9</td>\n",
       "      <td>35.5</td>\n",
       "      <td>25.5</td>\n",
       "      <td>12.0</td>\n",
       "      <td>33.4</td>\n",
       "    </tr>\n",
       "    <tr>\n",
       "      <th>4</th>\n",
       "      <td>22028.428571</td>\n",
       "      <td>1.059437e+06</td>\n",
       "      <td>37897.428571</td>\n",
       "      <td>1.0</td>\n",
       "      <td>1.0</td>\n",
       "      <td>17.9</td>\n",
       "      <td>43.9</td>\n",
       "      <td>25.0</td>\n",
       "      <td>13.2</td>\n",
       "      <td>20.2</td>\n",
       "    </tr>\n",
       "    <tr>\n",
       "      <th>5</th>\n",
       "      <td>57395.571429</td>\n",
       "      <td>1.705784e+06</td>\n",
       "      <td>43062.428571</td>\n",
       "      <td>1.0</td>\n",
       "      <td>1.0</td>\n",
       "      <td>20.2</td>\n",
       "      <td>32.3</td>\n",
       "      <td>34.4</td>\n",
       "      <td>13.1</td>\n",
       "      <td>12.8</td>\n",
       "    </tr>\n",
       "  </tbody>\n",
       "</table>\n",
       "</div>"
      ],
      "text/plain": [
       "      population         sales  median_income  \\\n",
       "1   52171.428571  3.038353e+06   50703.142857   \n",
       "2  179698.857143  9.989512e+06   48839.857143   \n",
       "3   28656.428571  1.141520e+06   30319.714286   \n",
       "4   22028.428571  1.059437e+06   37897.428571   \n",
       "5   57395.571429  1.705784e+06   43062.428571   \n",
       "\n",
       "   2013 Rural-urban Continuum Code  2013 Urban Influence Code  \\\n",
       "1                              2.0                        2.0   \n",
       "2                              3.0                        2.0   \n",
       "3                              6.0                        6.0   \n",
       "4                              1.0                        1.0   \n",
       "5                              1.0                        1.0   \n",
       "\n",
       "   Percent of adults with less than a high school diploma, 2013-17  \\\n",
       "1                                               12.3                 \n",
       "2                                                9.8                 \n",
       "3                                               26.9                 \n",
       "4                                               17.9                 \n",
       "5                                               20.2                 \n",
       "\n",
       "   Percent of adults with a high school diploma only, 2013-17  \\\n",
       "1                                               33.6            \n",
       "2                                               27.8            \n",
       "3                                               35.5            \n",
       "4                                               43.9            \n",
       "5                                               32.3            \n",
       "\n",
       "   Percent of adults completing some college or associate's degree, 2013-17  \\\n",
       "1                                               29.1                          \n",
       "2                                               31.7                          \n",
       "3                                               25.5                          \n",
       "4                                               25.0                          \n",
       "5                                               34.4                          \n",
       "\n",
       "   Percent of adults with a bachelor's degree or higher, 2013-17  \\\n",
       "1                                               25.0               \n",
       "2                                               30.7               \n",
       "3                                               12.0               \n",
       "4                                               13.2               \n",
       "5                                               13.1               \n",
       "\n",
       "   PCTPOVALL_2017  \n",
       "1            13.4  \n",
       "2            10.1  \n",
       "3            33.4  \n",
       "4            20.2  \n",
       "5            12.8  "
      ]
     },
     "execution_count": 26,
     "metadata": {},
     "output_type": "execute_result"
    }
   ],
   "source": [
    "x_data.head()"
   ]
  },
  {
   "cell_type": "code",
   "execution_count": 27,
   "metadata": {},
   "outputs": [],
   "source": [
    "random_state = 100\n",
    "validation_size = 0.30\n",
    "x_train, x_test, y_train, y_test = train_test_split(x_data, y_data, test_size=validation_size, shuffle=True, random_state=random_state)"
   ]
  },
  {
   "cell_type": "code",
   "execution_count": 28,
   "metadata": {},
   "outputs": [
    {
     "name": "stdout",
     "output_type": "stream",
     "text": [
      "0.28495867692557386\n"
     ]
    }
   ],
   "source": [
    "# Linear Regression\n",
    "lr_learner = LinearRegression().fit(x_train, y_train)\n",
    "\n",
    "y_pred = lr_learner.predict(x_train)\n",
    "print(r2_score(y_train, y_pred))"
   ]
  },
  {
   "cell_type": "code",
   "execution_count": 29,
   "metadata": {},
   "outputs": [
    {
     "name": "stdout",
     "output_type": "stream",
     "text": [
      "0.9221211804741791\n",
      "0.619487339805282\n"
     ]
    },
    {
     "name": "stderr",
     "output_type": "stream",
     "text": [
      "/Users/bovice18/anaconda3/envs/team99/lib/python3.7/site-packages/sklearn/ensemble/forest.py:245: FutureWarning: The default value of n_estimators will change from 10 in version 0.20 to 100 in 0.22.\n",
      "  \"10 in version 0.20 to 100 in 0.22.\", FutureWarning)\n"
     ]
    }
   ],
   "source": [
    "# Random Forest\n",
    "rf_learner = RandomForestRegressor().fit(x_train, y_train)\n",
    "\n",
    "y_pred = rf_learner.predict(x_train)\n",
    "print(r2_score(y_train, y_pred))\n",
    "y_pred = rf_learner.predict(x_test)\n",
    "print(r2_score(y_test, y_pred))"
   ]
  },
  {
   "cell_type": "code",
   "execution_count": 30,
   "metadata": {
    "scrolled": true
   },
   "outputs": [
    {
     "name": "stdout",
     "output_type": "stream",
     "text": [
      "0.6116807777160316\n",
      "0.6546539545936308\n"
     ]
    },
    {
     "name": "stderr",
     "output_type": "stream",
     "text": [
      "/Users/bovice18/anaconda3/envs/team99/lib/python3.7/site-packages/sklearn/neural_network/multilayer_perceptron.py:566: ConvergenceWarning: Stochastic Optimizer: Maximum iterations (200) reached and the optimization hasn't converged yet.\n",
      "  % self.max_iter, ConvergenceWarning)\n"
     ]
    }
   ],
   "source": [
    "# Neural Network\n",
    "\n",
    "# first normalize data\n",
    "scaler = StandardScaler()  \n",
    "scaler.fit(x_train)\n",
    "x_train_scaled = scaler.transform(x_train)  \n",
    "x_test_scaled = scaler.transform(x_test)\n",
    "\n",
    "nn_learner = MLPRegressor().fit(x_train_scaled, y_train)\n",
    "\n",
    "y_pred = nn_learner.predict(x_train_scaled)\n",
    "print(r2_score(y_train, y_pred))\n",
    "y_pred = nn_learner.predict(x_test_scaled)\n",
    "print(r2_score(y_test, y_pred))"
   ]
  },
  {
   "cell_type": "code",
   "execution_count": 31,
   "metadata": {},
   "outputs": [
    {
     "name": "stdout",
     "output_type": "stream",
     "text": [
      "{'n_estimators': 100}\n"
     ]
    }
   ],
   "source": [
    "# Random Forests show the most promise - now do some hyperparameter tuning\n",
    "tuned_params = {'n_estimators': [5,10,25,50,100]}\n",
    "rf_tuned = GridSearchCV(RandomForestRegressor(), tuned_params, cv=5).fit(x_train, y_train)\n",
    "print(rf_tuned.best_params_)"
   ]
  },
  {
   "cell_type": "code",
   "execution_count": 32,
   "metadata": {},
   "outputs": [
    {
     "name": "stdout",
     "output_type": "stream",
     "text": [
      "0.9435596944552372\n",
      "0.646771328711961\n"
     ]
    }
   ],
   "source": [
    "#Final Learner\n",
    "learner = RandomForestRegressor(n_estimators=50).fit(x_train, y_train)\n",
    "\n",
    "y_pred = learner.predict(x_train)\n",
    "print(r2_score(y_train, y_pred))\n",
    "y_pred = learner.predict(x_test)\n",
    "print(r2_score(y_test, y_pred))"
   ]
  },
  {
   "cell_type": "code",
   "execution_count": 10,
   "metadata": {},
   "outputs": [
    {
     "name": "stdout",
     "output_type": "stream",
     "text": [
      "    fips deaths_per_100000\n",
      "0  01001           14.2656\n",
      "1  01003           16.0268\n",
      "2  01005           15.7862\n",
      "3  01007            2.3235\n",
      "4  01009             11.18\n",
      "    fips deaths_per_100000\n",
      "0  01001           10.9755\n",
      "1  01003           15.8428\n",
      "2  01005                 0\n",
      "3  01007                 0\n",
      "4  01009           6.67099\n"
     ]
    }
   ],
   "source": [
    "# Now increase and reduce sales and get predicted deaths_per_100000\n",
    "data_plus_20 = data.copy()\n",
    "data_plus_20['sales'] = data_plus_20['sales'] + 0.2 * data_plus_20['sales']\n",
    "x_data_plus_20 = data_plus_20.loc[:, data.columns != \"deaths_per_100000\"]\n",
    "\n",
    "data_minus_20 = data.copy()\n",
    "data_minus_20['sales'] = data_minus_20['sales'] - 0.2 * data_minus_20['sales']\n",
    "x_data_minus_20 = data_minus_20.loc[:, data.columns != \"deaths_per_100000\"]\n",
    "\n",
    "y_pred_plus_20 = learner.predict(x_data_plus_20)\n",
    "y_pred_minus_20 = learner.predict(x_data_minus_20)\n",
    "\n",
    "out_plus_20_array = np.concatenate([fips.values.reshape(len(fips), 1), y_pred_plus_20.reshape((len(y_pred_plus_20), 1))], axis=1)\n",
    "\n",
    "out_plus_20 = pd.DataFrame(out_plus_20_array, columns=['fips', 'deaths_per_100000'])\n",
    "out_plus_20['fips'] = out_plus_20['fips'].astype(int)\n",
    "\n",
    "out_minus_20_array = np.concatenate([fips.values.reshape(len(fips), 1), y_pred_minus_20.reshape((len(y_pred_minus_20), 1))], axis=1)\n",
    "\n",
    "out_minus_20 = pd.DataFrame(out_minus_20_array, columns=['fips', 'deaths_per_100000'])\n",
    "out_minus_20['fips'] = out_minus_20['fips'].astype(int)\n",
    "\n",
    "out_plus_20['fips'] = out_plus_20['fips'].apply(str)\n",
    "out_plus_20['fips'] = out_plus_20['fips'].str.zfill(5)\n",
    "\n",
    "out_minus_20['fips'] = out_minus_20['fips'].apply(str)\n",
    "out_minus_20['fips'] = out_minus_20['fips'].str.zfill(5)\n",
    "\n",
    "print(out_plus_20.head())\n",
    "print(out_minus_20.head())\n",
    "\n",
    "out_plus_20.to_csv('data/ml-model/tableau_plus_20.csv')\n",
    "out_minus_20.to_csv('data/ml-model/tableau_minus_20.csv')"
   ]
  },
  {
   "cell_type": "code",
   "execution_count": 11,
   "metadata": {},
   "outputs": [
    {
     "name": "stdout",
     "output_type": "stream",
     "text": [
      "    fips deaths_per_100000\n",
      "0  01001           20.1632\n",
      "1  01003           16.2195\n",
      "2  01005           15.4123\n",
      "3  01007           2.05801\n",
      "4  01009           12.1467\n",
      "    fips deaths_per_100000\n",
      "0  01001           3.50866\n",
      "1  01003           13.4968\n",
      "2  01005                 0\n",
      "3  01007                 0\n",
      "4  01009          0.397611\n"
     ]
    }
   ],
   "source": [
    "# Now increase and reduce sales and get predicted deaths_per_100000\n",
    "data_plus_50 = data.copy()\n",
    "data_plus_50['sales'] = data_plus_50['sales'] + 0.5 * data_plus_50['sales']\n",
    "x_data_plus_50 = data_plus_50.loc[:, data.columns != \"deaths_per_100000\"]\n",
    "\n",
    "data_minus_50 = data.copy()\n",
    "data_minus_50['sales'] = data_minus_50['sales'] - 0.5 * data_minus_50['sales']\n",
    "x_data_minus_50 = data_minus_50.loc[:, data.columns != \"deaths_per_100000\"]\n",
    "\n",
    "y_pred_plus_50 = learner.predict(x_data_plus_50)\n",
    "y_pred_minus_50 = learner.predict(x_data_minus_50)\n",
    "\n",
    "out_plus_50_array = np.concatenate([fips.values.reshape(len(fips), 1), y_pred_plus_50.reshape((len(y_pred_plus_50), 1))], axis=1)\n",
    "\n",
    "out_plus_50 = pd.DataFrame(out_plus_50_array, columns=['fips', 'deaths_per_100000'])\n",
    "out_plus_50['fips'] = out_plus_50['fips'].astype(int)\n",
    "\n",
    "out_minus_50_array = np.concatenate([fips.values.reshape(len(fips), 1), y_pred_minus_50.reshape((len(y_pred_minus_50), 1))], axis=1)\n",
    "\n",
    "out_minus_50 = pd.DataFrame(out_minus_50_array, columns=['fips', 'deaths_per_100000'])\n",
    "out_minus_50['fips'] = out_minus_50['fips'].astype(int)\n",
    "\n",
    "out_plus_50['fips'] = out_plus_50['fips'].apply(str)\n",
    "out_plus_50['fips'] = out_plus_50['fips'].str.zfill(5)\n",
    "\n",
    "out_minus_50['fips'] = out_minus_50['fips'].apply(str)\n",
    "out_minus_50['fips'] = out_minus_50['fips'].str.zfill(5)\n",
    "\n",
    "print(out_plus_50.head())\n",
    "print(out_minus_50.head())\n",
    "\n",
    "out_plus_50.to_csv('data/ml-model/tableau_plus_50.csv')\n",
    "out_minus_50.to_csv('data/ml-model/tableau_minus_50.csv')"
   ]
  },
  {
   "cell_type": "code",
   "execution_count": 33,
   "metadata": {},
   "outputs": [
    {
     "name": "stdout",
     "output_type": "stream",
     "text": [
      "sales - 0.6039662229104958\n",
      "Percent of adults with a bachelor's degree or higher, 2013-17 - 0.09089371373657724\n",
      "median_income - 0.0686003785040622\n",
      "PCTPOVALL_2017 - 0.05185231320607836\n",
      "population - 0.04816453918413668\n",
      "Percent of adults with a high school diploma only, 2013-17 - 0.03839149025579985\n",
      "Percent of adults completing some college or associate's degree, 2013-17 - 0.03311697562083797\n",
      "Percent of adults with less than a high school diploma, 2013-17 - 0.029441993328793777\n",
      "2013 Rural-urban Continuum Code - 0.022792180279803943\n",
      "2013 Urban Influence Code - 0.012780192973414236\n"
     ]
    }
   ],
   "source": [
    "# FEATURE IMPORTANCE FROM LEARNER\n",
    "for i in np.flip(np.argsort(learner.feature_importances_)):\n",
    "    print(\"{} - {}\".format(x_data.columns[i], learner.feature_importances_[i]))\n",
    "    \n",
    "joined = [(x_data.columns[i], learner.feature_importances_[i]) for i in np.flip(np.argsort(learner.feature_importances_))]"
   ]
  },
  {
   "cell_type": "code",
   "execution_count": 36,
   "metadata": {},
   "outputs": [
    {
     "data": {
      "text/plain": [
       "['Population',\n",
       " 'Opioid Sales',\n",
       " 'Median Income',\n",
       " 'Rural Continuum Code',\n",
       " 'Urban Influence Code',\n",
       " '% No HS Degree',\n",
       " '% Only HS Degree',\n",
       " '% Some college degree',\n",
       " '% Bachelor Degree',\n",
       " '% Poverty']"
      ]
     },
     "execution_count": 36,
     "metadata": {},
     "output_type": "execute_result"
    }
   ],
   "source": [
    "col_dict = {'population': 'Population',\n",
    "            'sales': 'Opioid Sales',\n",
    "            'sales_per_capita':'Opiods Sales / Capita',\n",
    "            'median_income': 'Median Income',\n",
    "            '2013 Rural-urban Continuum Code': 'Rural Continuum Code', \n",
    "            '2013 Urban Influence Code': 'Urban Influence Code',\n",
    "            'Percent of adults with less than a high school diploma, 2013-17': '% No HS Degree',\n",
    "            'Percent of adults with a high school diploma only, 2013-17': '% Only HS Degree',\n",
    "            \"Percent of adults completing some college or associate's degree, 2013-17\": '% Some college degree',\n",
    "            \"Percent of adults with a bachelor's degree or higher, 2013-17\": '% Bachelor Degree',\n",
    "            \"PCTPOVALL_2017\":'% Poverty'}\n",
    "[col_dict.get(x, x) for x in x_data.columns]"
   ]
  },
  {
   "cell_type": "code",
   "execution_count": 40,
   "metadata": {},
   "outputs": [
    {
     "data": {
      "image/png": "[encoded data removed]",
      "text/plain": [
       "<Figure size 432x288 with 1 Axes>"
      ]
     },
     "metadata": {
      "needs_background": "light"
     },
     "output_type": "display_data"
    }
   ],
   "source": [
    "plt.bar([col_dict.get(x,x) for x in x_data.columns], learner.feature_importances_)\n",
    "plt.xticks(rotation=-70)\n",
    "plt.title(\"Random Forest Feature Importance for Predicting Opioid Deaths\")\n",
    "plt.ylabel(\"Feature Importance (%)\")\n",
    "plt.tight_layout()\n",
    "plt.savefig('feature_importance.png')"
   ]
  },
  {
   "cell_type": "code",
   "execution_count": null,
   "metadata": {},
   "outputs": [],
   "source": []
  }
 ],
 "metadata": {
  "kernelspec": {
   "display_name": "opioids-env",
   "language": "python",
   "name": "opioids-env"
  },
  "language_info": {
   "codemirror_mode": {
    "name": "ipython",
    "version": 3
   },
   "file_extension": ".py",
   "mimetype": "text/x-python",
   "name": "python",
   "nbconvert_exporter": "python",
   "pygments_lexer": "ipython3",
   "version": "3.6.5"
  }
 },
 "nbformat": 4,
 "nbformat_minor": 2
}
